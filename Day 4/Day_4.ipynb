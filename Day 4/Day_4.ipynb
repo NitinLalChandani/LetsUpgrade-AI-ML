{
  "nbformat": 4,
  "nbformat_minor": 0,
  "metadata": {
    "colab": {
      "name": "Day 4.ipynb",
      "provenance": [],
      "collapsed_sections": []
    },
    "kernelspec": {
      "name": "python3",
      "display_name": "Python 3"
    }
  },
  "cells": [
    {
      "cell_type": "markdown",
      "metadata": {
        "id": "C_6heFN-UBnN",
        "colab_type": "text"
      },
      "source": [
        "# **Question 1 :Research on whether addition, subtraction, multiplication, division, floor division and modulo operations be performed on complex numbers. Based on your study, implement a Python program to demonstrate these operations.**"
      ]
    },
    {
      "cell_type": "code",
      "metadata": {
        "id": "3VQIxiVVRoe1",
        "colab_type": "code",
        "colab": {
          "base_uri": "https://localhost:8080/",
          "height": 265
        },
        "outputId": "861428d2-91ff-4b51-c7e7-f0464d06f46e"
      },
      "source": [
        "x1 = (5+3j)\n",
        "x2 = (2+1j)\n",
        "\n",
        "print(f'Additoin of {x1} and {x2} : ', (x1 + x2))\n",
        "print(f'Subtraction of {x1} and {x2} : ', (x1 - x2))\n",
        "print(f'Division of {x1} and {x2} : ', (x1 / x2))\n",
        "print(f'Multipication of {x1} and {x2} : ', (x1 * x2))\n",
        "print(f'Modulpus of {x1} and {x2} : ', (x1 % x2))"
      ],
      "execution_count": 2,
      "outputs": [
        {
          "output_type": "stream",
          "text": [
            "Additoin of (5+3j) and (2+1j) :  (7+4j)\n",
            "Subtraction of (5+3j) and (2+1j) :  (3+2j)\n",
            "Division of (5+3j) and (2+1j) :  (2.6+0.2j)\n",
            "Multipication of (5+3j) and (2+1j) :  (7+11j)\n"
          ],
          "name": "stdout"
        },
        {
          "output_type": "error",
          "ename": "TypeError",
          "evalue": "ignored",
          "traceback": [
            "\u001b[0;31m---------------------------------------------------------------------------\u001b[0m",
            "\u001b[0;31mTypeError\u001b[0m                                 Traceback (most recent call last)",
            "\u001b[0;32m<ipython-input-2-24264352a9eb>\u001b[0m in \u001b[0;36m<module>\u001b[0;34m()\u001b[0m\n\u001b[1;32m      6\u001b[0m \u001b[0mprint\u001b[0m\u001b[0;34m(\u001b[0m\u001b[0;34mf'Division of {x1} and {x2} : '\u001b[0m\u001b[0;34m,\u001b[0m \u001b[0;34m(\u001b[0m\u001b[0mx1\u001b[0m \u001b[0;34m/\u001b[0m \u001b[0mx2\u001b[0m\u001b[0;34m)\u001b[0m\u001b[0;34m)\u001b[0m\u001b[0;34m\u001b[0m\u001b[0;34m\u001b[0m\u001b[0m\n\u001b[1;32m      7\u001b[0m \u001b[0mprint\u001b[0m\u001b[0;34m(\u001b[0m\u001b[0;34mf'Multipication of {x1} and {x2} : '\u001b[0m\u001b[0;34m,\u001b[0m \u001b[0;34m(\u001b[0m\u001b[0mx1\u001b[0m \u001b[0;34m*\u001b[0m \u001b[0mx2\u001b[0m\u001b[0;34m)\u001b[0m\u001b[0;34m)\u001b[0m\u001b[0;34m\u001b[0m\u001b[0;34m\u001b[0m\u001b[0m\n\u001b[0;32m----> 8\u001b[0;31m \u001b[0mprint\u001b[0m\u001b[0;34m(\u001b[0m\u001b[0;34mf'Modulpus of {x1} and {x2} : '\u001b[0m\u001b[0;34m,\u001b[0m \u001b[0;34m(\u001b[0m\u001b[0mx1\u001b[0m \u001b[0;34m%\u001b[0m \u001b[0mx2\u001b[0m\u001b[0;34m)\u001b[0m\u001b[0;34m)\u001b[0m\u001b[0;34m\u001b[0m\u001b[0;34m\u001b[0m\u001b[0m\n\u001b[0m",
            "\u001b[0;31mTypeError\u001b[0m: can't mod complex numbers."
          ]
        }
      ]
    },
    {
      "cell_type": "markdown",
      "metadata": {
        "id": "Plyj---rSdKG",
        "colab_type": "text"
      },
      "source": [
        "# **Question 2 : Research on range() functions and its parameters. Create a markdown cell and write in your own words (no copy-paste from google please) what you understand about it. Implement a small program of your choice on the same.**\n",
        "\n",
        "Range()\n",
        "> range() is a Python In-built function.\n",
        "> It's used to generate a sequence of Numbers.\n",
        "> this function used in Looping system\n",
        "\n",
        "Syntax\n",
        "  range(start, stop, step)\n",
        "\n",
        "start: optional-Integer specify from which number to start.Starting from zero(0) by default.\n",
        "stop: required-Integer specify which number to stop. (Not include)\n",
        "step: Optional-Integer number for incrementation."
      ]
    },
    {
      "cell_type": "markdown",
      "metadata": {
        "id": "NQTundnKTsAr",
        "colab_type": "text"
      },
      "source": [
        "# **Question 3:Consider two numbers. Perform their subtraction and if the result of subtraction is greater than 25, print their multiplication result else print their division result.**"
      ]
    },
    {
      "cell_type": "code",
      "metadata": {
        "id": "hR8oYgdzSW6X",
        "colab_type": "code",
        "colab": {
          "base_uri": "https://localhost:8080/",
          "height": 34
        },
        "outputId": "05e90777-8eed-4df5-a27f-d8238a7f74b8"
      },
      "source": [
        "y = 111\n",
        "z = 67\n",
        "sub = y - z\n",
        "\n",
        "if sub > 25 :\n",
        "    print(\"Multiplication : \", y * z)\n",
        "\n",
        "else:\n",
        "    print(\"Division : \", y / z)"
      ],
      "execution_count": 3,
      "outputs": [
        {
          "output_type": "stream",
          "text": [
            "Multiplication :  7437\n"
          ],
          "name": "stdout"
        }
      ]
    },
    {
      "cell_type": "markdown",
      "metadata": {
        "id": "e_iw2FT_T0sF",
        "colab_type": "text"
      },
      "source": [
        "# **Question 4: Consider a list of 10 elements of integer values. If the number in the list is divisible by 2, print the result as \"square of that number minus 2\".**"
      ]
    },
    {
      "cell_type": "code",
      "metadata": {
        "id": "pGD1AfZ7T2rX",
        "colab_type": "code",
        "colab": {
          "base_uri": "https://localhost:8080/",
          "height": 119
        },
        "outputId": "30af7ab4-be63-4255-e3f4-dab16a8f18be"
      },
      "source": [
        "listy = [32,2,191,366,13,56,10,7,15,12]\n",
        "for num in listy:\n",
        "    if num%2 == 0:\n",
        "        print(num**2-2)"
      ],
      "execution_count": 4,
      "outputs": [
        {
          "output_type": "stream",
          "text": [
            "1022\n",
            "2\n",
            "133954\n",
            "3134\n",
            "98\n",
            "142\n"
          ],
          "name": "stdout"
        }
      ]
    },
    {
      "cell_type": "markdown",
      "metadata": {
        "id": "QNj2candT68F",
        "colab_type": "text"
      },
      "source": [
        "# **Question 5: Consider a list of 10 elements. Print all the elements in the list which are greater than 7 when that number is divided 2.**"
      ]
    },
    {
      "cell_type": "code",
      "metadata": {
        "id": "G5RVJbH1T7Nc",
        "colab_type": "code",
        "colab": {
          "base_uri": "https://localhost:8080/",
          "height": 85
        },
        "outputId": "5dbedc45-fcfe-467e-a1ce-a2a92153427e"
      },
      "source": [
        "listty = [12,43,1,66,1,9,8,2,4,84]\n",
        "for n in listty:\n",
        "    if n%2 == 0:\n",
        "        if n > 7:\n",
        "            print(n)"
      ],
      "execution_count": 5,
      "outputs": [
        {
          "output_type": "stream",
          "text": [
            "12\n",
            "66\n",
            "8\n",
            "84\n"
          ],
          "name": "stdout"
        }
      ]
    }
  ]
}