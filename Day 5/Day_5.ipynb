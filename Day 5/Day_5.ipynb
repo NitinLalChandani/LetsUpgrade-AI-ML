{
  "nbformat": 4,
  "nbformat_minor": 0,
  "metadata": {
    "colab": {
      "name": "Day 5.ipynb",
      "provenance": [],
      "collapsed_sections": []
    },
    "kernelspec": {
      "name": "python3",
      "display_name": "Python 3"
    }
  },
  "cells": [
    {
      "cell_type": "markdown",
      "metadata": {
        "id": "EWoCAA7nJYk1",
        "colab_type": "text"
      },
      "source": [
        "# **Question 1 : Write a Python program to find the first 20 non-even prime natural numbers.**"
      ]
    },
    {
      "cell_type": "code",
      "metadata": {
        "id": "6JaTbi4rJRFF",
        "colab_type": "code",
        "colab": {
          "base_uri": "https://localhost:8080/",
          "height": 34
        },
        "outputId": "c0898ada-3ca5-4353-9dfe-6f3054aad322"
      },
      "source": [
        "non_even_prime = []\n",
        "for num in range(2, 100):\n",
        "    for i in range(2, num):\n",
        "        if (num % i) == 0:\n",
        "            break\n",
        "    else:\n",
        "        if len(non_even_prime) == 20:\n",
        "            break\n",
        "        else:\n",
        "            if num % 2 !=0:\n",
        "                non_even_prime.append(num)\n",
        "print(non_even_prime)"
      ],
      "execution_count": 2,
      "outputs": [
        {
          "output_type": "stream",
          "text": [
            "[3, 5, 7, 11, 13, 17, 19, 23, 29, 31, 37, 41, 43, 47, 53, 59, 61, 67, 71, 73]\n"
          ],
          "name": "stdout"
        }
      ]
    },
    {
      "cell_type": "markdown",
      "metadata": {
        "id": "5MtMCyB_J9ls",
        "colab_type": "text"
      },
      "source": [
        "\n",
        "# **Question 2 : Write a Python program to implement 15 functions of string.**"
      ]
    },
    {
      "cell_type": "code",
      "metadata": {
        "id": "3oYt9wz4JbAk",
        "colab_type": "code",
        "colab": {
          "base_uri": "https://localhost:8080/",
          "height": 272
        },
        "outputId": "24b606c3-9e0f-4693-e66c-522de6685848"
      },
      "source": [
        "from IPython.core.interactiveshell import InteractiveShell\n",
        "InteractiveShell.ast_node_interactivity = \"all\"\n",
        "\n",
        "s = \"LetsUpgrade\"\n",
        "\n",
        "print(s.upper())\n",
        "print(s.swapcase())\n",
        "print(s.lower())\n",
        "print(s.count('e'))\n",
        "print(s.casefold())\n",
        "print(s.endswith('d'))\n",
        "print(s.isalnum())\n",
        "print(s.find('s'))\n",
        "print(s.isalpha())\n",
        "print(' '.join(s))\n",
        "print(s.isupper())\n",
        "print(s.islower())\n",
        "print(s.index('t'))\n",
        "print(s.isdigit())\n",
        "print(s.replace('LetsUpgrade',\"Helloo Rowdy\"))"
      ],
      "execution_count": 5,
      "outputs": [
        {
          "output_type": "stream",
          "text": [
            "LETSUPGRADE\n",
            "lETSuPGRADE\n",
            "letsupgrade\n",
            "2\n",
            "letsupgrade\n",
            "False\n",
            "True\n",
            "3\n",
            "True\n",
            "L e t s U p g r a d e\n",
            "False\n",
            "False\n",
            "2\n",
            "False\n",
            "Helloo Rowdy\n"
          ],
          "name": "stdout"
        }
      ]
    },
    {
      "cell_type": "markdown",
      "metadata": {
        "id": "9HOdYYJPLkAS",
        "colab_type": "text"
      },
      "source": [
        "# **Question 3: Write a Python program to check if the given string is a Palindrome or Anagram or None of them.Display the message accordingly to the user.**"
      ]
    },
    {
      "cell_type": "code",
      "metadata": {
        "id": "_ODc8WSbKSFO",
        "colab_type": "code",
        "colab": {
          "base_uri": "https://localhost:8080/",
          "height": 34
        },
        "outputId": "cd877e15-3c72-4f34-c07d-292a3314948a"
      },
      "source": [
        "from collections import Counter\n",
        "\n",
        "string1 = \"Redefining\"\n",
        "string2 = \"definingRe\"\n",
        "\n",
        "# Polindrome - string1\n",
        "# Anagram needs two strings\n",
        "rev = string1[::-1]\n",
        "\n",
        "if string1 == rev:\n",
        "    print(string1, \"is Polindrome\")\n",
        "elif Counter(string1) == Counter(string2):\n",
        "    print(string1,'and',string2 ,'is Anagram')\n",
        "else:\n",
        "    print('None of them')"
      ],
      "execution_count": 6,
      "outputs": [
        {
          "output_type": "stream",
          "text": [
            "Redefining and definingRe is Anagram\n"
          ],
          "name": "stdout"
        }
      ]
    },
    {
      "cell_type": "markdown",
      "metadata": {
        "id": "8sSmISC-LwJU",
        "colab_type": "text"
      },
      "source": [
        "# **Question 4: Write a Python's user defined function that removes all the additional characters from the string and converts it finally to lower case using built-in lower(). eg: If the string is \"Dr. Darshan Ingle @AI-ML Trainer\", then the output be \"drdarshaningle aimltrainer\".**"
      ]
    },
    {
      "cell_type": "code",
      "metadata": {
        "id": "g62Rj5sJLgrw",
        "colab_type": "code",
        "colab": {
          "base_uri": "https://localhost:8080/",
          "height": 34
        },
        "outputId": "83fa3040-1f19-46d2-ae72-9ef5c7b59c91"
      },
      "source": [
        "import re\n",
        "def remspchar(s):\n",
        "    final = (re.sub('[!@#$-._+#]',' ',s)).lower()\n",
        "    print(final)\n",
        "s = \"Day_5@Assignment-LetsUpgrade\"\n",
        "remspchar(s)"
      ],
      "execution_count": 7,
      "outputs": [
        {
          "output_type": "stream",
          "text": [
            "day 5 assignment letsupgrade\n"
          ],
          "name": "stdout"
        }
      ]
    },
    {
      "cell_type": "code",
      "metadata": {
        "id": "e2y5F6ujLtAK",
        "colab_type": "code",
        "colab": {}
      },
      "source": [
        ""
      ],
      "execution_count": null,
      "outputs": []
    }
  ]
}