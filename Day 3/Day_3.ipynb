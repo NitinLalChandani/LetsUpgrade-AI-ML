{
  "nbformat": 4,
  "nbformat_minor": 0,
  "metadata": {
    "colab": {
      "name": "Day 3.ipynb",
      "provenance": [],
      "collapsed_sections": []
    },
    "kernelspec": {
      "name": "python3",
      "display_name": "Python 3"
    }
  },
  "cells": [
    {
      "cell_type": "markdown",
      "metadata": {
        "id": "RUPCEifDvJ5F",
        "colab_type": "text"
      },
      "source": [
        "# **Question_1 : WAP to Subtract two complex numbers in Python.**"
      ]
    },
    {
      "cell_type": "code",
      "metadata": {
        "id": "Aj1aTfzskipE",
        "colab_type": "code",
        "colab": {
          "base_uri": "https://localhost:8080/",
          "height": 102
        },
        "outputId": "6e3f5140-64b3-4d8f-a5cf-8eb7b494e948"
      },
      "source": [
        "\n",
        "x1 = int(input(\"Enter real Number : \"))\n",
        "x2 = int(input(\"Enter Imaginary Number : \"))\n",
        "x3 = int(input(\"Enter real Number : \"))\n",
        "x4 = int(input(\"Enter Imaginary Number : \"))\n",
        "\n",
        "z1 = complex(x1, x2)\n",
        "z2 = complex(x3, x4)\n",
        "sub = z1-z2\n",
        "print(f\"Subtraction of two complex numbers {z1} - {z2} : {sub}\")"
      ],
      "execution_count": 1,
      "outputs": [
        {
          "output_type": "stream",
          "text": [
            "Enter real Number : 2\n",
            "Enter Imaginary Number : 3\n",
            "Enter real Number : 4\n",
            "Enter Imaginary Number : 1\n",
            "Subtraction of two complex numbers (2+3j) - (4+1j) : (-2+2j)\n"
          ],
          "name": "stdout"
        }
      ]
    },
    {
      "cell_type": "markdown",
      "metadata": {
        "id": "bg8P3wYLvKCs",
        "colab_type": "text"
      },
      "source": [
        "# **Question_2 : Write a program to find the fourth root of a number.**"
      ]
    },
    {
      "cell_type": "code",
      "metadata": {
        "id": "8MPhmLM1nFRL",
        "colab_type": "code",
        "colab": {
          "base_uri": "https://localhost:8080/",
          "height": 34
        },
        "outputId": "ba07a24b-34e4-413d-ba22-35f15847af11"
      },
      "source": [
        "def nth_root(val, n):\n",
        "    ret = int(val**(1/n))\n",
        "    return ret + 1 if (ret + 1) ** n == val else ret\n",
        "\n",
        "nth_root(16, 4)"
      ],
      "execution_count": 2,
      "outputs": [
        {
          "output_type": "execute_result",
          "data": {
            "text/plain": [
              "2"
            ]
          },
          "metadata": {
            "tags": []
          },
          "execution_count": 2
        }
      ]
    },
    {
      "cell_type": "markdown",
      "metadata": {
        "id": "onhplmBRvKMW",
        "colab_type": "text"
      },
      "source": [
        "# **Question_3 : Write a program to swap two numbers in Python with the help of a temporary variable.**"
      ]
    },
    {
      "cell_type": "code",
      "metadata": {
        "id": "8RwXKX4hnbj1",
        "colab_type": "code",
        "colab": {
          "base_uri": "https://localhost:8080/",
          "height": 85
        },
        "outputId": "b4be4f02-44a9-49e0-8d9a-7a4a97ea5f6b"
      },
      "source": [
        "a = int(input(\"Enter first number :\"))\n",
        "b = int(input(\"Enter second number :\"))\n",
        "\n",
        "print(f\"Before Swap : first no = {a} , second no = {b}\")\n",
        "\n",
        "temp = a\n",
        "a = b\n",
        "b = temp\n",
        "\n",
        "print(f\"After Swap  : first no = {a} , second no = {b}\")"
      ],
      "execution_count": 4,
      "outputs": [
        {
          "output_type": "stream",
          "text": [
            "Enter first number :10\n",
            "Enter second number :20\n",
            "Before Swap : first no = 10 , second no = 20\n",
            "After Swap  : first no = 20 , second no = 10\n"
          ],
          "name": "stdout"
        }
      ]
    },
    {
      "cell_type": "markdown",
      "metadata": {
        "id": "A6pm9R_WvJtK",
        "colab_type": "text"
      },
      "source": [
        "# **Question_4 : Write a program to swap two numbers in Python without using a temporary variable.**"
      ]
    },
    {
      "cell_type": "code",
      "metadata": {
        "id": "ln3Spm13ntAT",
        "colab_type": "code",
        "colab": {
          "base_uri": "https://localhost:8080/",
          "height": 85
        },
        "outputId": "dce8dd1c-7601-46ba-dfe6-3fb2e195f358"
      },
      "source": [
        "a = int(input(\"Enter  a number :\"))\n",
        "b = int(input(\"Enter  a number :\"))\n",
        "\n",
        "print(f\"Before Swap : first no = {a} , second no = {b}\")\n",
        "\n",
        "a, b = b, a\n",
        "\n",
        "print(f\"After Swap  : first no = {a} , second no = {b}\")"
      ],
      "execution_count": 5,
      "outputs": [
        {
          "output_type": "stream",
          "text": [
            "Enter  a number :10\n",
            "Enter  a number :20\n",
            "Before Swap : first no = 10 , second no = 20\n",
            "After Swap  : first no = 20 , second no = 10\n"
          ],
          "name": "stdout"
        }
      ]
    },
    {
      "cell_type": "markdown",
      "metadata": {
        "id": "EjqbpD7QvJa2",
        "colab_type": "text"
      },
      "source": [
        "# **Question_5 : Write a python program to convert fahrenheit to kelvin and celsius both.**"
      ]
    },
    {
      "cell_type": "code",
      "metadata": {
        "id": "zsCp4rF3n21p",
        "colab_type": "code",
        "colab": {
          "base_uri": "https://localhost:8080/",
          "height": 85
        },
        "outputId": "01af4ace-ed89-4d6a-fdc2-b022f2fe48a6"
      },
      "source": [
        "# 1.convert fahrenheit to kelvin\n",
        "f = int(input(\"Enter any value in Fahrenheit : \"))\n",
        "k = 273 + ((f - 32.0) * (5/9))\n",
        "print(f\"fahreiheit {f} --> kelvin {k:.3f} K\")\n",
        "\n",
        "# 2.convert fahrenheit to celcius\n",
        "f = int(input(\"Enter any value in Fahrenheit : \"))\n",
        "c = ((f - 32.0) * 5) / 9\n",
        "print(f\"fahreiheit {f} --> Celcius {c:.3f} C\")"
      ],
      "execution_count": 6,
      "outputs": [
        {
          "output_type": "stream",
          "text": [
            "Enter any value in Fahrenheit : 23\n",
            "fahreiheit 23 --> kelvin 268.000 K\n",
            "Enter any value in Fahrenheit : 23\n",
            "fahreiheit 23 --> Celcius -5.000 C\n"
          ],
          "name": "stdout"
        }
      ]
    },
    {
      "cell_type": "markdown",
      "metadata": {
        "id": "pI_GF0pEvJGE",
        "colab_type": "text"
      },
      "source": [
        "# **Question_6 :Write a program to demonstrate all the available data types in Python. Hint: Use type() function.**"
      ]
    },
    {
      "cell_type": "code",
      "metadata": {
        "id": "Sqv3b_U4oBmZ",
        "colab_type": "code",
        "colab": {
          "base_uri": "https://localhost:8080/",
          "height": 187
        },
        "outputId": "78dd5cd3-48c4-4ab3-848b-1837a9a0190f"
      },
      "source": [
        "from IPython.core.interactiveshell import InteractiveShell\n",
        "InteractiveShell.ast_node_interactivity = \"all\"\n",
        "\n",
        "print(type(1))\n",
        "print(type(1.2))\n",
        "print(type(z1))  # Z1 value from above\n",
        "print(type('Lu'))\n",
        "print(type([1, 2, 'hello']))\n",
        "print(type(True))\n",
        "print(type(None))\n",
        "print(type((1, 1.4, False)))\n",
        "print(type({1: 'hello', 2: \"Python\"}))\n",
        "print(type({5, 7, 'LU'}))"
      ],
      "execution_count": 9,
      "outputs": [
        {
          "output_type": "stream",
          "text": [
            "<class 'int'>\n",
            "<class 'float'>\n",
            "<class 'complex'>\n",
            "<class 'str'>\n",
            "<class 'list'>\n",
            "<class 'bool'>\n",
            "<class 'NoneType'>\n",
            "<class 'tuple'>\n",
            "<class 'dict'>\n",
            "<class 'set'>\n"
          ],
          "name": "stdout"
        }
      ]
    },
    {
      "cell_type": "markdown",
      "metadata": {
        "id": "tQHN_nqsvDZ3",
        "colab_type": "text"
      },
      "source": [
        "# **Question_7 : Create a Markdown cell in jupyter and list the steps discussed in the session by Dr. Darshan Ingle sir to create Github profile and upload Githubs Assignment link.**"
      ]
    },
    {
      "cell_type": "markdown",
      "metadata": {
        "id": "KtN-9lFno48L",
        "colab_type": "text"
      },
      "source": [
        "\n",
        "\n",
        "> *   Create a account(Profile) in GitHub\n",
        "* Make a New Repository Name it as a LetsUpgrade AI-ML, Make sure the repository that You created in Public mode not in Private\n",
        "* Then Upload a folder of that particular day , inside that folder you should have to put \".ipynb\" assignment file of that Day.\n",
        "* Then Copy the link of that assignment , paste it in Assignment submission link.( Before submitting that link,check the link through the incognito Window)."
      ]
    }
  ]
}